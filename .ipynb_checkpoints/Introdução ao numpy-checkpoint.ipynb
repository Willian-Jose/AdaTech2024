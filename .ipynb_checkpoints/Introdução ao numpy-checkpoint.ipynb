{
 "cells": [
  {
   "cell_type": "code",
   "execution_count": 7,
   "id": "d7043b7a-f42e-4e24-bba8-51d407aef29b",
   "metadata": {},
   "outputs": [],
   "source": [
    "import numpy as np"
   ]
  },
  {
   "cell_type": "code",
   "execution_count": 9,
   "id": "c3c1f423-f308-46e0-8d44-022de0c1e057",
   "metadata": {},
   "outputs": [],
   "source": [
    "lista = [1,2,3,4,5]\n",
    "\n",
    "array = np.array(lista)"
   ]
  },
  {
   "cell_type": "code",
   "execution_count": 11,
   "id": "9c4f4033-e0ff-4ef5-9cd5-d2d2a76da4f5",
   "metadata": {},
   "outputs": [
    {
     "name": "stdout",
     "output_type": "stream",
     "text": [
      "<class 'list'>\n",
      "<class 'numpy.ndarray'>\n"
     ]
    }
   ],
   "source": [
    "print(type(lista))\n",
    "print(type(array))"
   ]
  },
  {
   "cell_type": "code",
   "execution_count": 15,
   "id": "0f6ff9a9-0df4-45d7-bdea-3c80eccd9109",
   "metadata": {},
   "outputs": [
    {
     "name": "stdout",
     "output_type": "stream",
     "text": [
      "[0. 0. 0. 0. 0. 0. 0. 0. 0. 0.]\n"
     ]
    }
   ],
   "source": [
    "arr_zeros = np.zeros(10)\n",
    "print(arr_zeros)"
   ]
  },
  {
   "cell_type": "code",
   "execution_count": 21,
   "id": "a857ad40-dc60-45db-b773-4f659df77c8d",
   "metadata": {},
   "outputs": [
    {
     "name": "stdout",
     "output_type": "stream",
     "text": [
      "[9 2 3 4 5]\n"
     ]
    }
   ],
   "source": [
    "array[0] = 9\n",
    "print(array)"
   ]
  },
  {
   "cell_type": "code",
   "execution_count": 25,
   "id": "e36d9b32-c5d8-44a0-bc6d-cc058253006f",
   "metadata": {},
   "outputs": [
    {
     "name": "stdout",
     "output_type": "stream",
     "text": [
      "[[0. 0. 0.]\n",
      " [0. 0. 0.]\n",
      " [0. 0. 0.]\n",
      " [0. 0. 0.]\n",
      " [0. 0. 0.]]\n"
     ]
    }
   ],
   "source": [
    "matriz_zeros = np.zeros((5,3))\n",
    "print(matriz_zeros)"
   ]
  },
  {
   "cell_type": "code",
   "execution_count": 35,
   "id": "a44327bc-c768-484f-85e0-750997a30137",
   "metadata": {},
   "outputs": [
    {
     "name": "stdout",
     "output_type": "stream",
     "text": [
      "Máximo 9.8\n",
      "Mínimo 5.6\n",
      "Desvio Padrão 1.5628179676469045\n",
      "Média 7.76\n",
      "Posição menor 1\n"
     ]
    }
   ],
   "source": [
    "lista_de_notas = [9.8,5.6,7.8,9.1,6.5]\n",
    "notas = np.array(lista_de_notas)\n",
    "print('Máximo', notas.max())\n",
    "print('Mínimo', notas.min())\n",
    "print('Desvio Padrão', notas.std())\n",
    "print('Média', notas.mean())\n",
    "print('Posição menor', notas.argmin())"
   ]
  },
  {
   "cell_type": "code",
   "execution_count": null,
   "id": "debdaa97-de9d-4185-9d93-d6b595e04f0a",
   "metadata": {},
   "outputs": [],
   "source": []
  }
 ],
 "metadata": {
  "kernelspec": {
   "display_name": "Python 3 (ipykernel)",
   "language": "python",
   "name": "python3"
  },
  "language_info": {
   "codemirror_mode": {
    "name": "ipython",
    "version": 3
   },
   "file_extension": ".py",
   "mimetype": "text/x-python",
   "name": "python",
   "nbconvert_exporter": "python",
   "pygments_lexer": "ipython3",
   "version": "3.11.7"
  }
 },
 "nbformat": 4,
 "nbformat_minor": 5
}
