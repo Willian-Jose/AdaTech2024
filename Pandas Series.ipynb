{
 "cells": [
  {
   "cell_type": "code",
   "execution_count": 1,
   "id": "45334739-4bdd-44e8-9916-4d100aeb0858",
   "metadata": {},
   "outputs": [],
   "source": [
    "import pandas as pd"
   ]
  },
  {
   "cell_type": "code",
   "execution_count": 7,
   "id": "1dba3c4a-8098-46ba-b8bf-3c78c9d9c1a3",
   "metadata": {},
   "outputs": [
    {
     "name": "stdout",
     "output_type": "stream",
     "text": [
      "0    12\n",
      "1    23\n",
      "2    56\n",
      "3    86\n",
      "4    67\n",
      "dtype: int64\n"
     ]
    }
   ],
   "source": [
    "lista = [12,23,56,86,67]\n",
    "serie_pandas = pd.Series(lista)\n",
    "print(serie_pandas)"
   ]
  },
  {
   "cell_type": "code",
   "execution_count": 9,
   "id": "dd12d5d9-09ac-41f9-a848-c0d2b02cc9be",
   "metadata": {},
   "outputs": [
    {
     "name": "stdout",
     "output_type": "stream",
     "text": [
      "12\n"
     ]
    }
   ],
   "source": [
    "print(serie_pandas[0])"
   ]
  },
  {
   "cell_type": "code",
   "execution_count": 11,
   "id": "a582be3e-92d1-4656-a249-a1a29d8337ad",
   "metadata": {},
   "outputs": [],
   "source": [
    "notas = {'Tiago':8, 'Guilherme':9.5,'Juca':6.2}"
   ]
  },
  {
   "cell_type": "code",
   "execution_count": 13,
   "id": "8bfad6f7-bae2-4671-9490-464ae7ea2d47",
   "metadata": {},
   "outputs": [
    {
     "name": "stdout",
     "output_type": "stream",
     "text": [
      "Tiago        8.0\n",
      "Guilherme    9.5\n",
      "Juca         6.2\n",
      "dtype: float64\n"
     ]
    }
   ],
   "source": [
    "serie_notas = pd.Series(notas)\n",
    "print(serie_notas)"
   ]
  },
  {
   "cell_type": "code",
   "execution_count": 15,
   "id": "e8350e98-3c1e-4d03-9c87-5f7a8147432a",
   "metadata": {},
   "outputs": [
    {
     "name": "stdout",
     "output_type": "stream",
     "text": [
      "8.0\n"
     ]
    }
   ],
   "source": [
    "print(serie_notas['Tiago'])"
   ]
  },
  {
   "cell_type": "code",
   "execution_count": 17,
   "id": "0131e60a-9b39-4e05-8472-88303227ee4b",
   "metadata": {},
   "outputs": [
    {
     "name": "stdout",
     "output_type": "stream",
     "text": [
      "7.8999999999999995\n"
     ]
    }
   ],
   "source": [
    "print(serie_notas.mean())"
   ]
  },
  {
   "cell_type": "code",
   "execution_count": 19,
   "id": "19ac533b-2e93-4f63-8e5c-0c6470eaccad",
   "metadata": {},
   "outputs": [
    {
     "name": "stdout",
     "output_type": "stream",
     "text": [
      "8.0\n"
     ]
    }
   ],
   "source": [
    "print(serie_notas.median())"
   ]
  },
  {
   "cell_type": "code",
   "execution_count": 21,
   "id": "1b436edb-0d9f-4eb7-895f-3841f1160cd5",
   "metadata": {},
   "outputs": [
    {
     "name": "stdout",
     "output_type": "stream",
     "text": [
      "count    3.000000\n",
      "mean     7.900000\n",
      "std      1.652271\n",
      "min      6.200000\n",
      "25%      7.100000\n",
      "50%      8.000000\n",
      "75%      8.750000\n",
      "max      9.500000\n",
      "dtype: float64\n"
     ]
    }
   ],
   "source": [
    "print(serie_notas.describe())"
   ]
  }
 ],
 "metadata": {
  "kernelspec": {
   "display_name": "Python 3 (ipykernel)",
   "language": "python",
   "name": "python3"
  },
  "language_info": {
   "codemirror_mode": {
    "name": "ipython",
    "version": 3
   },
   "file_extension": ".py",
   "mimetype": "text/x-python",
   "name": "python",
   "nbconvert_exporter": "python",
   "pygments_lexer": "ipython3",
   "version": "3.11.7"
  }
 },
 "nbformat": 4,
 "nbformat_minor": 5
}
