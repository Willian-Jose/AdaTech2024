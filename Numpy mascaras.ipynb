{
 "cells": [
  {
   "cell_type": "code",
   "execution_count": 1,
   "id": "3cc47915-3e57-4d2c-a2c5-56fce790c080",
   "metadata": {},
   "outputs": [],
   "source": [
    "import numpy as np"
   ]
  },
  {
   "cell_type": "code",
   "execution_count": 11,
   "id": "8699b967-f44e-4b0f-ac41-cea010102841",
   "metadata": {},
   "outputs": [],
   "source": [
    "is_covid_positive = np.array(['Yes','No','No','Yes','Yes','No'])"
   ]
  },
  {
   "cell_type": "code",
   "execution_count": 13,
   "id": "c6e32116-4e30-446d-81d5-59bcd61e22de",
   "metadata": {},
   "outputs": [
    {
     "name": "stdout",
     "output_type": "stream",
     "text": [
      "['Yes' 'No' 'No' 'Yes' 'Yes' 'No']\n"
     ]
    }
   ],
   "source": [
    "print(is_covid_positive)"
   ]
  },
  {
   "cell_type": "code",
   "execution_count": 15,
   "id": "23b0820a-8248-43ba-9912-7d21fe9ed076",
   "metadata": {},
   "outputs": [],
   "source": [
    "mask = (is_covid_positive == 'Yes') "
   ]
  },
  {
   "cell_type": "code",
   "execution_count": 17,
   "id": "e340178a-a6bf-4e04-8499-ba1d51856386",
   "metadata": {},
   "outputs": [
    {
     "name": "stdout",
     "output_type": "stream",
     "text": [
      "[ True False False  True  True False]\n"
     ]
    }
   ],
   "source": [
    "print(mask)"
   ]
  },
  {
   "cell_type": "code",
   "execution_count": 21,
   "id": "7e40fe87-20cf-44bf-a552-08e6e9f3ad62",
   "metadata": {},
   "outputs": [
    {
     "name": "stdout",
     "output_type": "stream",
     "text": [
      "['Yes' 'Yes' 'Yes']\n"
     ]
    }
   ],
   "source": [
    "print(is_covid_positive[mask])"
   ]
  },
  {
   "cell_type": "code",
   "execution_count": 23,
   "id": "2bed251c-4ae1-4d5f-94ad-a4a9c9d84e19",
   "metadata": {},
   "outputs": [],
   "source": [
    "is_covid_positive[mask] = 'C19'"
   ]
  },
  {
   "cell_type": "code",
   "execution_count": 25,
   "id": "b6838d93-6b0e-4a4c-b889-3ca0b1e8f1d1",
   "metadata": {},
   "outputs": [
    {
     "name": "stdout",
     "output_type": "stream",
     "text": [
      "['C19' 'No' 'No' 'C19' 'C19' 'No']\n"
     ]
    }
   ],
   "source": [
    "print(is_covid_positive)"
   ]
  },
  {
   "cell_type": "code",
   "execution_count": 27,
   "id": "579a049a-7b58-4e8e-a4e8-9744468d6ce4",
   "metadata": {},
   "outputs": [],
   "source": [
    "notas = np.array([4.9,6.5,3.2,6.7])"
   ]
  },
  {
   "cell_type": "code",
   "execution_count": 29,
   "id": "c22dedfb-2936-457f-954a-f87051ffcad1",
   "metadata": {},
   "outputs": [],
   "source": [
    "mask_notas = notas >=5"
   ]
  },
  {
   "cell_type": "code",
   "execution_count": 31,
   "id": "ac4c5215-b24f-4fcb-9961-8079b990b73f",
   "metadata": {},
   "outputs": [
    {
     "name": "stdout",
     "output_type": "stream",
     "text": [
      "[False  True False  True]\n"
     ]
    }
   ],
   "source": [
    "print(mask_notas)"
   ]
  }
 ],
 "metadata": {
  "kernelspec": {
   "display_name": "Python 3 (ipykernel)",
   "language": "python",
   "name": "python3"
  },
  "language_info": {
   "codemirror_mode": {
    "name": "ipython",
    "version": 3
   },
   "file_extension": ".py",
   "mimetype": "text/x-python",
   "name": "python",
   "nbconvert_exporter": "python",
   "pygments_lexer": "ipython3",
   "version": "3.11.7"
  }
 },
 "nbformat": 4,
 "nbformat_minor": 5
}
